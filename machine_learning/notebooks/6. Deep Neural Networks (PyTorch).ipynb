{
 "cells": [
  {
   "cell_type": "markdown",
   "metadata": {},
   "source": [
    "# Deep Learning with PyTorch\n",
    "\n",
    "Classical machine learning relies on using statistics to determine relationships between features and labels, and can be very effective for creating predictive models. However, a massive growth in the availability of data coupled with advances in the computing technology required to process it has led to the emergence of new machine learning techniques that mimic the way the brain processes information in a structure called an artificial neural network.\n",
    "\n",
    "PyTorch is a framework for creating machine learning models, including deep neural networks (DNNs). In this example, we'll use PyTorch to create a simple neural network that classifies penguins into species based on the length and depth of their culmen (bill), their flipper length, and their body mass.\n",
    "\n",
    "> **Citation**: The penguins dataset used in the this exercise is a subset of data collected and made available by [Dr. Kristen\n",
    "Gorman](https://www.uaf.edu/cfos/people/faculty/detail/kristen-gorman.php)\n",
    "and the [Palmer Station, Antarctica LTER](https://pal.lternet.edu/), a\n",
    "member of the [Long Term Ecological Research\n",
    "Network](https://lternet.edu/).\n",
    "\n",
    "## Explore the Dataset\n",
    "\n",
    "Before we start using PyTorch to create a model, let's load the data we need from the Palmer Islands penguins dataset, which contains observations of three different species of penguin.\n",
    "\n",
    "> **Note**: In reality, you can solve the penguin classification problem easily using classical machine learning techniques without the need for a deep learning model; but it's a useful, easy to understand dataset with which to demonstrate the principles of neural networks in this notebook."
   ]
  },
  {
   "cell_type": "code",
   "execution_count": 1,
   "metadata": {},
   "outputs": [
    {
     "data": {
      "text/html": [
       "<div>\n",
       "<style scoped>\n",
       "    .dataframe tbody tr th:only-of-type {\n",
       "        vertical-align: middle;\n",
       "    }\n",
       "\n",
       "    .dataframe tbody tr th {\n",
       "        vertical-align: top;\n",
       "    }\n",
       "\n",
       "    .dataframe thead th {\n",
       "        text-align: right;\n",
       "    }\n",
       "</style>\n",
       "<table border=\"1\" class=\"dataframe\">\n",
       "  <thead>\n",
       "    <tr style=\"text-align: right;\">\n",
       "      <th></th>\n",
       "      <th>CulmenLength</th>\n",
       "      <th>CulmenDepth</th>\n",
       "      <th>FlipperLength</th>\n",
       "      <th>BodyMass</th>\n",
       "      <th>Species</th>\n",
       "    </tr>\n",
       "  </thead>\n",
       "  <tbody>\n",
       "    <tr>\n",
       "      <th>232</th>\n",
       "      <td>49.1</td>\n",
       "      <td>14.5</td>\n",
       "      <td>21.2</td>\n",
       "      <td>46.25</td>\n",
       "      <td>1</td>\n",
       "    </tr>\n",
       "    <tr>\n",
       "      <th>75</th>\n",
       "      <td>42.8</td>\n",
       "      <td>18.5</td>\n",
       "      <td>19.5</td>\n",
       "      <td>42.50</td>\n",
       "      <td>0</td>\n",
       "    </tr>\n",
       "    <tr>\n",
       "      <th>84</th>\n",
       "      <td>37.3</td>\n",
       "      <td>17.8</td>\n",
       "      <td>19.1</td>\n",
       "      <td>33.50</td>\n",
       "      <td>0</td>\n",
       "    </tr>\n",
       "    <tr>\n",
       "      <th>328</th>\n",
       "      <td>45.7</td>\n",
       "      <td>17.3</td>\n",
       "      <td>19.3</td>\n",
       "      <td>36.00</td>\n",
       "      <td>2</td>\n",
       "    </tr>\n",
       "    <tr>\n",
       "      <th>260</th>\n",
       "      <td>43.3</td>\n",
       "      <td>14.0</td>\n",
       "      <td>20.8</td>\n",
       "      <td>45.75</td>\n",
       "      <td>1</td>\n",
       "    </tr>\n",
       "    <tr>\n",
       "      <th>174</th>\n",
       "      <td>46.5</td>\n",
       "      <td>14.5</td>\n",
       "      <td>21.3</td>\n",
       "      <td>44.00</td>\n",
       "      <td>1</td>\n",
       "    </tr>\n",
       "    <tr>\n",
       "      <th>189</th>\n",
       "      <td>44.4</td>\n",
       "      <td>17.3</td>\n",
       "      <td>21.9</td>\n",
       "      <td>52.50</td>\n",
       "      <td>1</td>\n",
       "    </tr>\n",
       "    <tr>\n",
       "      <th>59</th>\n",
       "      <td>37.6</td>\n",
       "      <td>19.1</td>\n",
       "      <td>19.4</td>\n",
       "      <td>37.50</td>\n",
       "      <td>0</td>\n",
       "    </tr>\n",
       "    <tr>\n",
       "      <th>15</th>\n",
       "      <td>36.6</td>\n",
       "      <td>17.8</td>\n",
       "      <td>18.5</td>\n",
       "      <td>37.00</td>\n",
       "      <td>0</td>\n",
       "    </tr>\n",
       "    <tr>\n",
       "      <th>270</th>\n",
       "      <td>47.2</td>\n",
       "      <td>13.7</td>\n",
       "      <td>21.4</td>\n",
       "      <td>49.25</td>\n",
       "      <td>1</td>\n",
       "    </tr>\n",
       "  </tbody>\n",
       "</table>\n",
       "</div>"
      ],
      "text/plain": [
       "     CulmenLength  CulmenDepth  FlipperLength  BodyMass  Species\n",
       "232          49.1         14.5           21.2     46.25        1\n",
       "75           42.8         18.5           19.5     42.50        0\n",
       "84           37.3         17.8           19.1     33.50        0\n",
       "328          45.7         17.3           19.3     36.00        2\n",
       "260          43.3         14.0           20.8     45.75        1\n",
       "174          46.5         14.5           21.3     44.00        1\n",
       "189          44.4         17.3           21.9     52.50        1\n",
       "59           37.6         19.1           19.4     37.50        0\n",
       "15           36.6         17.8           18.5     37.00        0\n",
       "270          47.2         13.7           21.4     49.25        1"
      ]
     },
     "execution_count": 1,
     "metadata": {},
     "output_type": "execute_result"
    }
   ],
   "source": [
    "import pandas as pd\n",
    "\n",
    "# load the training dataset (excluding rows with null values)\n",
    "penguins = pd.read_csv('data/penguins.csv').dropna()\n",
    "\n",
    "# Deep Learning models work best when features are on similar scales\n",
    "# In a real solution, we'd implement some custom normalization for each feature, but to keep things simple\n",
    "# we'll just rescale the FlipperLength and BodyMass so they're on a similar scale to the bill measurements\n",
    "penguins['FlipperLength'] = penguins['FlipperLength']/10\n",
    "penguins['BodyMass'] = penguins['BodyMass']/100\n",
    "\n",
    "# The dataset is too small to be useful for deep learning\n",
    "# So we'll oversample it to increase its size\n",
    "for i in range(1,3):\n",
    "    penguins = penguins.append(penguins)\n",
    "\n",
    "# Display a random sample of 10 observations\n",
    "sample = penguins.sample(10)\n",
    "sample"
   ]
  },
  {
   "cell_type": "markdown",
   "metadata": {},
   "source": [
    "The **Species** column is the label our model will predict. Each label value represents a class of penguin species, encoded as 0, 1, or 2. The following code shows the actual species to which these class labels corrrespond."
   ]
  },
  {
   "cell_type": "code",
   "execution_count": 2,
   "metadata": {
    "tags": []
   },
   "outputs": [
    {
     "name": "stdout",
     "output_type": "stream",
     "text": [
      "['CulmenLength' 'CulmenDepth' 'FlipperLength' 'BodyMass' 'Species'] SpeciesName\n",
      "[ 35.9 19.2 18.9 38.0 0 ] Adelie\n",
      "[ 36.7 19.3 19.3 34.5 0 ] Adelie\n",
      "[ 35.9 16.6 19.0 30.5 0 ] Adelie\n",
      "[ 51.0 18.8 20.3 41.0 2 ] Chinstrap\n",
      "[ 46.4 15.0 21.6 47.0 1 ] Gentoo\n",
      "[ 48.4 16.3 22.0 54.0 1 ] Gentoo\n",
      "[ 50.5 19.6 20.1 40.5 2 ] Chinstrap\n",
      "[ 39.5 16.7 17.8 32.5 0 ] Adelie\n",
      "[ 41.1 18.1 20.5 43.0 0 ] Adelie\n",
      "[ 49.0 19.5 21.0 39.5 2 ] Chinstrap\n"
     ]
    }
   ],
   "source": [
    "penguin_classes = ['Adelie', 'Gentoo', 'Chinstrap']\n",
    "print(sample.columns[0:5].values, 'SpeciesName')\n",
    "for index, row in penguins.sample(10).iterrows():\n",
    "    print('[',row[0], row[1], row[2],row[3], int(row[4]), ']',penguin_classes[int(row[-1])])"
   ]
  },
  {
   "cell_type": "markdown",
   "metadata": {},
   "source": [
    "As is common in a supervised learning problem, we'll split the dataset into a set of records with which to train the model, and a smaller set with which to validate the trained model."
   ]
  },
  {
   "cell_type": "code",
   "execution_count": 3,
   "metadata": {
    "tags": []
   },
   "outputs": [
    {
     "name": "stdout",
     "output_type": "stream",
     "text": [
      "Training Set: 957, Test Set: 411 \n",
      "\n",
      "Sample of features and labels:\n",
      "[51.1 16.5 22.5 52.5] 1 (Gentoo)\n",
      "[50.7 19.7 20.3 40.5] 2 (Chinstrap)\n",
      "[49.5 16.2 22.9 58. ] 1 (Gentoo)\n",
      "[39.3 20.6 19.  36.5] 0 (Adelie)\n",
      "[42.5 20.7 19.7 45. ] 0 (Adelie)\n",
      "[50.  15.3 22.  55.5] 1 (Gentoo)\n",
      "[50.2  18.7  19.8  37.75] 2 (Chinstrap)\n",
      "[50.7 19.7 20.3 40.5] 2 (Chinstrap)\n",
      "[49.1  14.5  21.2  46.25] 1 (Gentoo)\n",
      "[43.2 16.6 18.7 29. ] 2 (Chinstrap)\n",
      "[38.8  17.6  19.1  32.75] 0 (Adelie)\n",
      "[37.8 17.1 18.6 33. ] 0 (Adelie)\n",
      "[45.8 14.2 21.9 47. ] 1 (Gentoo)\n",
      "[43.8 13.9 20.8 43. ] 1 (Gentoo)\n",
      "[36.  17.1 18.7 37. ] 0 (Adelie)\n",
      "[43.3 13.4 20.9 44. ] 1 (Gentoo)\n",
      "[36.  18.5 18.6 31. ] 0 (Adelie)\n",
      "[41.1  19.   18.2  34.25] 0 (Adelie)\n",
      "[33.1 16.1 17.8 29. ] 0 (Adelie)\n",
      "[40.9 13.7 21.4 46.5] 1 (Gentoo)\n",
      "[45.2 17.8 19.8 39.5] 2 (Chinstrap)\n",
      "[48.4 14.6 21.3 58.5] 1 (Gentoo)\n",
      "[43.6 13.9 21.7 49. ] 1 (Gentoo)\n",
      "[38.5  17.9  19.   33.25] 0 (Adelie)\n"
     ]
    }
   ],
   "source": [
    "from sklearn.model_selection import train_test_split\n",
    "\n",
    "features = ['CulmenLength','CulmenDepth','FlipperLength','BodyMass']\n",
    "label = 'Species'\n",
    "   \n",
    "# Split data 70%-30% into training set and test set\n",
    "x_train, x_test, y_train, y_test = train_test_split(penguins[features].values,\n",
    "                                                    penguins[label].values,\n",
    "                                                    test_size=0.30,\n",
    "                                                    random_state=0)\n",
    "\n",
    "print ('Training Set: %d, Test Set: %d \\n' % (len(x_train), len(x_test)))\n",
    "print(\"Sample of features and labels:\")\n",
    "\n",
    "# Take a look at the first 25 training features and corresponding labels\n",
    "for n in range(0,24):\n",
    "    print(x_train[n], y_train[n], '(' + penguin_classes[y_train[n]] + ')')"
   ]
  },
  {
   "cell_type": "markdown",
   "metadata": {},
   "source": [
    "The *features* are the measurements for each penguin observation, and the *label* is a numeric value that indicates the species of penguin that the observation represents (Adelie, Gentoo, or Chinstrap).\n",
    "\n",
    "## Install and import the PyTorch libraries\n",
    "\n",
    "Since we plan to use PyTorch to create our penguin classifier, we'll need to run the following two cells to install and import the PyTorch libraries we intend to use. The specific installation of of PyTorch depends on your operating system and whether your computer has graphics processing units (GPUs) that can be used for high-performance processing via *cuda*. You can find detailed instructions at https://pytorch.org/get-started/locally/."
   ]
  },
  {
   "cell_type": "code",
   "execution_count": 4,
   "metadata": {},
   "outputs": [
    {
     "name": "stdout",
     "output_type": "stream",
     "text": [
      "Looking in links: https://download.pytorch.org/whl/torch_stable.html\n",
      "Collecting torch==1.9.0+cpu\n",
      "  Downloading https://download.pytorch.org/whl/cpu/torch-1.9.0%2Bcpu-cp38-cp38-linux_x86_64.whl (175.5 MB)\n",
      "\u001b[K     |████████████████████████████████| 175.5 MB 49 kB/s /s eta 0:00:01\n",
      "\u001b[?25hCollecting torchvision==0.10.0+cpu\n",
      "  Downloading https://download.pytorch.org/whl/cpu/torchvision-0.10.0%2Bcpu-cp38-cp38-linux_x86_64.whl (15.7 MB)\n",
      "\u001b[K     |████████████████████████████████| 15.7 MB 74.2 MB/s eta 0:00:01\n",
      "\u001b[?25hCollecting torchaudio==0.9.0\n",
      "  Downloading torchaudio-0.9.0-cp38-cp38-manylinux1_x86_64.whl (1.9 MB)\n",
      "\u001b[K     |████████████████████████████████| 1.9 MB 3.5 MB/s eta 0:00:01\n",
      "\u001b[?25hRequirement already satisfied: typing-extensions in /anaconda/envs/azureml_py38/lib/python3.8/site-packages (from torch==1.9.0+cpu) (4.6.0)\n",
      "Requirement already satisfied: numpy in /anaconda/envs/azureml_py38/lib/python3.8/site-packages (from torchvision==0.10.0+cpu) (1.21.6)\n",
      "Requirement already satisfied: pillow>=5.3.0 in /anaconda/envs/azureml_py38/lib/python3.8/site-packages (from torchvision==0.10.0+cpu) (9.2.0)\n",
      "Installing collected packages: torch, torchvision, torchaudio\n",
      "  Attempting uninstall: torch\n",
      "    Found existing installation: torch 1.12.0\n",
      "    Uninstalling torch-1.12.0:\n",
      "      Successfully uninstalled torch-1.12.0\n",
      "  Attempting uninstall: torchvision\n",
      "    Found existing installation: torchvision 0.9.1\n",
      "    Uninstalling torchvision-0.9.1:\n",
      "      Successfully uninstalled torchvision-0.9.1\n",
      "Successfully installed torch-1.9.0+cpu torchaudio-0.9.0 torchvision-0.10.0+cpu\n"
     ]
    }
   ],
   "source": [
    "!pip install torch==1.9.0+cpu torchvision==0.10.0+cpu torchaudio==0.9.0 -f https://download.pytorch.org/whl/torch_stable.html"
   ]
  },
  {
   "cell_type": "code",
   "execution_count": 5,
   "metadata": {
    "tags": []
   },
   "outputs": [
    {
     "name": "stdout",
     "output_type": "stream",
     "text": [
      "Libraries imported - ready to use PyTorch 1.9.0+cpu\n"
     ]
    }
   ],
   "source": [
    "import torch\n",
    "import torch.nn as nn\n",
    "import torch.utils.data as td\n",
    "\n",
    "# Set random seed for reproducability\n",
    "torch.manual_seed(0)\n",
    "\n",
    "print(\"Libraries imported - ready to use PyTorch\", torch.__version__)"
   ]
  },
  {
   "cell_type": "markdown",
   "metadata": {},
   "source": [
    "## Prepare the data for PyTorch\n",
    "\n",
    "PyTorch makes use of *data loaders* to load training and validation data in batches. We've already loaded the data into numpy arrays, but we need to wrap those in PyTorch datasets (in which the data is converted to PyTorch *tensor* objects) and create loaders to read batches from those datasets."
   ]
  },
  {
   "cell_type": "code",
   "execution_count": 6,
   "metadata": {
    "tags": []
   },
   "outputs": [
    {
     "name": "stdout",
     "output_type": "stream",
     "text": [
      "Ready to load data\n"
     ]
    }
   ],
   "source": [
    "# Create a dataset and loader for the training data and labels\n",
    "train_x = torch.Tensor(x_train).float()\n",
    "train_y = torch.Tensor(y_train).long()\n",
    "train_ds = td.TensorDataset(train_x,train_y)\n",
    "train_loader = td.DataLoader(train_ds, batch_size=20,\n",
    "    shuffle=False, num_workers=1)\n",
    "\n",
    "# Create a dataset and loader for the test data and labels\n",
    "test_x = torch.Tensor(x_test).float()\n",
    "test_y = torch.Tensor(y_test).long()\n",
    "test_ds = td.TensorDataset(test_x,test_y)\n",
    "test_loader = td.DataLoader(test_ds, batch_size=20,\n",
    "    shuffle=False, num_workers=1)\n",
    "print('Ready to load data')"
   ]
  },
  {
   "cell_type": "code",
   "execution_count": 12,
   "metadata": {},
   "outputs": [
    {
     "data": {
      "text/plain": [
       "<torch.utils.data.dataloader.DataLoader at 0x7f58634d0dc0>"
      ]
     },
     "execution_count": 12,
     "metadata": {},
     "output_type": "execute_result"
    }
   ],
   "source": [
    "train_loader #Object used to read batches from the dataset"
   ]
  },
  {
   "cell_type": "markdown",
   "metadata": {},
   "source": [
    "## Define a neural network\n",
    "\n",
    "Now we're ready to define our neural network. In this case, we'll create a network that consists of 3 fully-connected layers:\n",
    "* An input layer that receives an input value for each feature (in this case, the four penguin measurements) and applies a *ReLU* activation function.\n",
    "* A hidden layer that receives ten inputs and applies a *ReLU* activation function.\n",
    "* An output layer that generates a non-negative numeric output for each penguin species (which a loss function will translate into classification probabilities for each of the three possible penguin species)."
   ]
  },
  {
   "cell_type": "code",
   "execution_count": 13,
   "metadata": {
    "tags": []
   },
   "outputs": [
    {
     "name": "stdout",
     "output_type": "stream",
     "text": [
      "PenguinNet(\n",
      "  (fc1): Linear(in_features=4, out_features=10, bias=True)\n",
      "  (fc2): Linear(in_features=10, out_features=10, bias=True)\n",
      "  (fc3): Linear(in_features=10, out_features=3, bias=True)\n",
      ")\n"
     ]
    }
   ],
   "source": [
    "# Number of hidden layer nodes\n",
    "hl = 10 #Defined from personal opinion\n",
    "\n",
    "# Define the neural network\n",
    "class PenguinNet(nn.Module):# Neural Network has been defined as the parameter of the object PenguinNet\n",
    "    def __init__(self):#Initializer or constructor\n",
    "        super(PenguinNet, self).__init__()\n",
    "        self.fc1 = nn.Linear(len(features), hl)#Connection between inoput layer (features), and number uf hidden neurons layer\n",
    "        self.fc2 = nn.Linear(hl, hl)#Definition of the hidden layer\n",
    "        self.fc3 = nn.Linear(hl, len(penguin_classes))#Definition of the connection between hidden layr and output\n",
    "\n",
    "    def forward(self, x): #Step by step input processing throguh the NN\n",
    "        x = torch.relu(self.fc1(x)) # ReLU activation (if x = 0 then ReLu = 0, otherwise x)\n",
    "        x = torch.relu(self.fc2(x)) # Waterfall conection between the input and the result of the hidden layer\n",
    "        x = torch.relu(self.fc3(x)) # Output \n",
    "        return x\n",
    "\n",
    "# Create a model instance from the network\n",
    "model = PenguinNet() # Model has been created and we've defined its connection properties\n",
    "print(model)"
   ]
  },
  {
   "cell_type": "markdown",
   "metadata": {},
   "source": [
    "## Train the model\n",
    "\n",
    "To train the model, we need to repeatedly feed the training values forward through the network, use a loss function to calculate the loss, use an optimizer to backpropagate the weight and bias value adjustments, and validate the model using the test data we withheld.\n",
    "\n",
    "To do this, we'll create a function to train and optimize the model, and function to test the model. Then we'll call these functions iteratively over 50 epochs, logging the loss and accuracy statistics for each epoch."
   ]
  },
  {
   "cell_type": "code",
   "execution_count": 31,
   "metadata": {},
   "outputs": [
    {
     "name": "stdout",
     "output_type": "stream",
     "text": [
      "Batch number: 0 total train_loss = 0.9643914103507996\n",
      "Batch number: 1 total train_loss = 1.9086121320724487\n",
      "Batch number: 2 total train_loss = 2.9421435594558716\n",
      "Batch number: 3 total train_loss = 3.9358086585998535\n",
      "Batch number: 4 total train_loss = 4.862327456474304\n",
      "Batch number: 5 total train_loss = 5.852285087108612\n",
      "Batch number: 6 total train_loss = 6.796310305595398\n",
      "Batch number: 7 total train_loss = 7.733500182628632\n",
      "Batch number: 8 total train_loss = 8.724334299564362\n",
      "Batch number: 9 total train_loss = 9.74785429239273\n",
      "Batch number: 10 total train_loss = 10.656161367893219\n",
      "Batch number: 11 total train_loss = 11.689533650875092\n",
      "Batch number: 12 total train_loss = 12.619175255298615\n",
      "Batch number: 13 total train_loss = 13.6405468583107\n",
      "Batch number: 14 total train_loss = 14.582744359970093\n",
      "Batch number: 15 total train_loss = 15.541246771812439\n",
      "Batch number: 16 total train_loss = 16.52477365732193\n",
      "Batch number: 17 total train_loss = 17.54279488325119\n",
      "Batch number: 18 total train_loss = 18.503845989704132\n",
      "Batch number: 19 total train_loss = 19.431699872016907\n",
      "Batch number: 20 total train_loss = 20.438519835472107\n",
      "Batch number: 21 total train_loss = 21.388783156871796\n",
      "Batch number: 22 total train_loss = 22.416015565395355\n",
      "Batch number: 23 total train_loss = 23.355956315994263\n",
      "Batch number: 24 total train_loss = 24.41013789176941\n",
      "Batch number: 25 total train_loss = 25.43315601348877\n",
      "Batch number: 26 total train_loss = 26.388070225715637\n",
      "Batch number: 27 total train_loss = 27.404327988624573\n",
      "Batch number: 28 total train_loss = 28.33339637517929\n",
      "Batch number: 29 total train_loss = 29.261840403079987\n",
      "Batch number: 30 total train_loss = 30.232362508773804\n",
      "Batch number: 31 total train_loss = 31.166522920131683\n",
      "Batch number: 32 total train_loss = 32.11364024877548\n",
      "Batch number: 33 total train_loss = 33.10505086183548\n",
      "Batch number: 34 total train_loss = 34.051363468170166\n",
      "Batch number: 35 total train_loss = 34.959880352020264\n",
      "Batch number: 36 total train_loss = 35.812011539936066\n",
      "Batch number: 37 total train_loss = 36.71710026264191\n",
      "Batch number: 38 total train_loss = 37.69424134492874\n",
      "Batch number: 39 total train_loss = 38.603745102882385\n",
      "Batch number: 40 total train_loss = 39.51525521278381\n",
      "Batch number: 41 total train_loss = 40.580066204071045\n",
      "Batch number: 42 total train_loss = 41.57441729307175\n",
      "Batch number: 43 total train_loss = 42.478229343891144\n",
      "Batch number: 44 total train_loss = 43.452814519405365\n",
      "Batch number: 45 total train_loss = 44.380863428115845\n",
      "Batch number: 46 total train_loss = 45.3822181224823\n",
      "Batch number: 47 total train_loss = 46.25933003425598\n",
      "Training set: Average loss: 0.963736\n"
     ]
    }
   ],
   "source": [
    "#In order to understand both functions, I'm going to show every step this process follows:\n",
    "#ONLY RUN THIS AS A DEBUGGING ACTION, IF YOU WANT TO GET THE NORMAL NOTEBOOK BEHAVIOR, YOU SHOULD SKIP THIS CELL\n",
    "#First, on the training function, we iterate over the batch and the tensor in the loader, getting the data and the target\n",
    "learning_rate = 0.001\n",
    "loss_criteria = nn.CrossEntropyLoss()\n",
    "optimizer = torch.optim.Adam(model.parameters(),lr=learning_rate)\n",
    "\n",
    "train_loss = 0 \n",
    "#I recommend to uncomment every line you want to check so you can understand how is the function working\n",
    "model.train()\n",
    "for b,t in enumerate(train_loader):\n",
    "    data,target = t\n",
    "    #print(\"Batch: {} , Tensor: {}\".format(b,t)) #Number of the batch, and so, each correspondent tensor\n",
    "    #print(\"data: {} target: {}\".format(data,target)) # Data and target\n",
    "    #Now, we apply the optimizer function\n",
    "    optimizer.zero_grad()\n",
    "    out = model(data) #Last layer output\n",
    "    loss = loss_criteria(out, target) # According to a certain loss criteria, we can compare our output with the desired value we want from the model, and find the loss\n",
    "    train_loss += loss.item()\n",
    "    print(\"Batch number: {} total train_loss = {}\".format(b,train_loss))\n",
    "    #After this, we'll back-propagate the loss\n",
    "\n",
    "    #backpropagate\n",
    "    loss.backward()\n",
    "    optimizer.step()\n",
    "#Method output:\n",
    "#Return average loss\n",
    "avg_loss = train_loss / (b+1)\n",
    "print('Training set: Average loss: {:.6f}'.format(avg_loss))"
   ]
  },
  {
   "cell_type": "code",
   "execution_count": 32,
   "metadata": {
    "tags": []
   },
   "outputs": [
    {
     "name": "stdout",
     "output_type": "stream",
     "text": [
      "Epoch: 1\n",
      "Training set: Average loss: 0.910768\n",
      "Validation set: Average loss: 0.857885, Accuracy: 242/411 (59%)\n",
      "\n",
      "Epoch: 2\n",
      "Training set: Average loss: 0.817226\n",
      "Validation set: Average loss: 0.753349, Accuracy: 274/411 (67%)\n",
      "\n",
      "Epoch: 3\n",
      "Training set: Average loss: 0.749195\n",
      "Validation set: Average loss: 0.705284, Accuracy: 280/411 (68%)\n",
      "\n",
      "Epoch: 4\n",
      "Training set: Average loss: 0.711601\n",
      "Validation set: Average loss: 0.673240, Accuracy: 313/411 (76%)\n",
      "\n",
      "Epoch: 5\n",
      "Training set: Average loss: 0.683692\n",
      "Validation set: Average loss: 0.649276, Accuracy: 326/411 (79%)\n",
      "\n",
      "Epoch: 6\n",
      "Training set: Average loss: 0.661838\n",
      "Validation set: Average loss: 0.631679, Accuracy: 337/411 (82%)\n",
      "\n",
      "Epoch: 7\n",
      "Training set: Average loss: 0.644275\n",
      "Validation set: Average loss: 0.616083, Accuracy: 347/411 (84%)\n",
      "\n",
      "Epoch: 8\n",
      "Training set: Average loss: 0.629979\n",
      "Validation set: Average loss: 0.602108, Accuracy: 348/411 (85%)\n",
      "\n",
      "Epoch: 9\n",
      "Training set: Average loss: 0.618046\n",
      "Validation set: Average loss: 0.590036, Accuracy: 351/411 (85%)\n",
      "\n",
      "Epoch: 10\n",
      "Training set: Average loss: 0.607264\n",
      "Validation set: Average loss: 0.581065, Accuracy: 359/411 (87%)\n",
      "\n",
      "Epoch: 11\n",
      "Training set: Average loss: 0.598042\n",
      "Validation set: Average loss: 0.569944, Accuracy: 363/411 (88%)\n",
      "\n",
      "Epoch: 12\n",
      "Training set: Average loss: 0.589707\n",
      "Validation set: Average loss: 0.561666, Accuracy: 363/411 (88%)\n",
      "\n",
      "Epoch: 13\n",
      "Training set: Average loss: 0.582196\n",
      "Validation set: Average loss: 0.555144, Accuracy: 374/411 (91%)\n",
      "\n",
      "Epoch: 14\n",
      "Training set: Average loss: 0.575087\n",
      "Validation set: Average loss: 0.548915, Accuracy: 383/411 (93%)\n",
      "\n",
      "Epoch: 15\n",
      "Training set: Average loss: 0.568748\n",
      "Validation set: Average loss: 0.542754, Accuracy: 386/411 (94%)\n",
      "\n",
      "Epoch: 16\n",
      "Training set: Average loss: 0.563675\n",
      "Validation set: Average loss: 0.539159, Accuracy: 389/411 (95%)\n",
      "\n",
      "Epoch: 17\n",
      "Training set: Average loss: 0.559055\n",
      "Validation set: Average loss: 0.535669, Accuracy: 395/411 (96%)\n",
      "\n",
      "Epoch: 18\n",
      "Training set: Average loss: 0.555078\n",
      "Validation set: Average loss: 0.532406, Accuracy: 397/411 (97%)\n",
      "\n",
      "Epoch: 19\n",
      "Training set: Average loss: 0.551859\n",
      "Validation set: Average loss: 0.528092, Accuracy: 397/411 (97%)\n",
      "\n",
      "Epoch: 20\n",
      "Training set: Average loss: 0.548694\n",
      "Validation set: Average loss: 0.527130, Accuracy: 397/411 (97%)\n",
      "\n",
      "Epoch: 21\n",
      "Training set: Average loss: 0.546214\n",
      "Validation set: Average loss: 0.523738, Accuracy: 398/411 (97%)\n",
      "\n",
      "Epoch: 22\n",
      "Training set: Average loss: 0.543778\n",
      "Validation set: Average loss: 0.519216, Accuracy: 397/411 (97%)\n",
      "\n",
      "Epoch: 23\n",
      "Training set: Average loss: 0.541366\n",
      "Validation set: Average loss: 0.516691, Accuracy: 398/411 (97%)\n",
      "\n",
      "Epoch: 24\n",
      "Training set: Average loss: 0.539559\n",
      "Validation set: Average loss: 0.515493, Accuracy: 399/411 (97%)\n",
      "\n",
      "Epoch: 25\n",
      "Training set: Average loss: 0.538197\n",
      "Validation set: Average loss: 0.513235, Accuracy: 401/411 (98%)\n",
      "\n",
      "Epoch: 26\n",
      "Training set: Average loss: 0.536717\n",
      "Validation set: Average loss: 0.511960, Accuracy: 404/411 (98%)\n",
      "\n",
      "Epoch: 27\n",
      "Training set: Average loss: 0.535377\n",
      "Validation set: Average loss: 0.509723, Accuracy: 404/411 (98%)\n",
      "\n",
      "Epoch: 28\n",
      "Training set: Average loss: 0.533771\n",
      "Validation set: Average loss: 0.509150, Accuracy: 404/411 (98%)\n",
      "\n",
      "Epoch: 29\n",
      "Training set: Average loss: 0.532346\n",
      "Validation set: Average loss: 0.508458, Accuracy: 405/411 (99%)\n",
      "\n",
      "Epoch: 30\n",
      "Training set: Average loss: 0.531548\n",
      "Validation set: Average loss: 0.504863, Accuracy: 404/411 (98%)\n",
      "\n",
      "Epoch: 31\n",
      "Training set: Average loss: 0.530149\n",
      "Validation set: Average loss: 0.504923, Accuracy: 405/411 (99%)\n",
      "\n",
      "Epoch: 32\n",
      "Training set: Average loss: 0.529135\n",
      "Validation set: Average loss: 0.502728, Accuracy: 405/411 (99%)\n",
      "\n",
      "Epoch: 33\n",
      "Training set: Average loss: 0.527978\n",
      "Validation set: Average loss: 0.500022, Accuracy: 404/411 (98%)\n",
      "\n",
      "Epoch: 34\n",
      "Training set: Average loss: 0.526850\n",
      "Validation set: Average loss: 0.499170, Accuracy: 405/411 (99%)\n",
      "\n",
      "Epoch: 35\n",
      "Training set: Average loss: 0.525815\n",
      "Validation set: Average loss: 0.497224, Accuracy: 405/411 (99%)\n",
      "\n",
      "Epoch: 36\n",
      "Training set: Average loss: 0.524716\n",
      "Validation set: Average loss: 0.496605, Accuracy: 405/411 (99%)\n",
      "\n",
      "Epoch: 37\n",
      "Training set: Average loss: 0.523832\n",
      "Validation set: Average loss: 0.494562, Accuracy: 405/411 (99%)\n",
      "\n",
      "Epoch: 38\n",
      "Training set: Average loss: 0.522820\n",
      "Validation set: Average loss: 0.493340, Accuracy: 405/411 (99%)\n",
      "\n",
      "Epoch: 39\n",
      "Training set: Average loss: 0.522138\n",
      "Validation set: Average loss: 0.491549, Accuracy: 401/411 (98%)\n",
      "\n",
      "Epoch: 40\n",
      "Training set: Average loss: 0.521261\n",
      "Validation set: Average loss: 0.491197, Accuracy: 402/411 (98%)\n",
      "\n",
      "Epoch: 41\n",
      "Training set: Average loss: 0.520627\n",
      "Validation set: Average loss: 0.490448, Accuracy: 405/411 (99%)\n",
      "\n",
      "Epoch: 42\n",
      "Training set: Average loss: 0.519858\n",
      "Validation set: Average loss: 0.490302, Accuracy: 405/411 (99%)\n",
      "\n",
      "Epoch: 43\n",
      "Training set: Average loss: 0.519617\n",
      "Validation set: Average loss: 0.489227, Accuracy: 405/411 (99%)\n",
      "\n",
      "Epoch: 44\n",
      "Training set: Average loss: 0.519150\n",
      "Validation set: Average loss: 0.488749, Accuracy: 405/411 (99%)\n",
      "\n",
      "Epoch: 45\n",
      "Training set: Average loss: 0.518782\n",
      "Validation set: Average loss: 0.487121, Accuracy: 402/411 (98%)\n",
      "\n",
      "Epoch: 46\n",
      "Training set: Average loss: 0.518059\n",
      "Validation set: Average loss: 0.486903, Accuracy: 402/411 (98%)\n",
      "\n",
      "Epoch: 47\n",
      "Training set: Average loss: 0.517485\n",
      "Validation set: Average loss: 0.486869, Accuracy: 405/411 (99%)\n",
      "\n",
      "Epoch: 48\n",
      "Training set: Average loss: 0.517044\n",
      "Validation set: Average loss: 0.486086, Accuracy: 405/411 (99%)\n",
      "\n",
      "Epoch: 49\n",
      "Training set: Average loss: 0.516573\n",
      "Validation set: Average loss: 0.485688, Accuracy: 405/411 (99%)\n",
      "\n",
      "Epoch: 50\n",
      "Training set: Average loss: 0.516114\n",
      "Validation set: Average loss: 0.485374, Accuracy: 405/411 (99%)\n",
      "\n"
     ]
    }
   ],
   "source": [
    "def train(model, data_loader, optimizer):\n",
    "    # Set the model to training mode\n",
    "    model.train()\n",
    "    train_loss = 0\n",
    "    \n",
    "    for batch, tensor in enumerate(data_loader):\n",
    "        data, target = tensor\n",
    "        #feedforward\n",
    "        optimizer.zero_grad()\n",
    "        out = model(data)\n",
    "        loss = loss_criteria(out, target)\n",
    "        train_loss += loss.item()\n",
    "\n",
    "        # backpropagate\n",
    "        loss.backward()\n",
    "        optimizer.step()\n",
    "\n",
    "    #Return average loss\n",
    "    avg_loss = train_loss / (batch+1)\n",
    "    print('Training set: Average loss: {:.6f}'.format(avg_loss))\n",
    "    return avg_loss\n",
    "           \n",
    "            \n",
    "def test(model, data_loader):\n",
    "    # Switch the model to evaluation mode (so we don't backpropagate)\n",
    "    model.eval()\n",
    "    test_loss = 0\n",
    "    correct = 0\n",
    "\n",
    "    with torch.no_grad():\n",
    "        batch_count = 0\n",
    "        for batch, tensor in enumerate(data_loader):\n",
    "            batch_count += 1\n",
    "            data, target = tensor\n",
    "            # Get the predictions\n",
    "            out = model(data)\n",
    "\n",
    "            # calculate the loss\n",
    "            test_loss += loss_criteria(out, target).item()\n",
    "\n",
    "            # Calculate the accuracy\n",
    "            _, predicted = torch.max(out.data, 1)\n",
    "            correct += torch.sum(target==predicted).item()\n",
    "            \n",
    "    # Calculate the average loss and total accuracy for this epoch\n",
    "    avg_loss = test_loss/batch_count\n",
    "    print('Validation set: Average loss: {:.6f}, Accuracy: {}/{} ({:.0f}%)\\n'.format(\n",
    "        avg_loss, correct, len(data_loader.dataset),\n",
    "        100. * correct / len(data_loader.dataset)))\n",
    "    \n",
    "    # return average loss for the epoch\n",
    "    return avg_loss\n",
    "\n",
    "# Specify the loss criteria (we'll use CrossEntropyLoss for multi-class classification)\n",
    "loss_criteria = nn.CrossEntropyLoss()\n",
    "\n",
    "# Use an \"Adam\" optimizer to adjust weights\n",
    "# (see https://pytorch.org/docs/stable/optim.html#algorithms for details of supported algorithms)\n",
    "learning_rate = 0.001\n",
    "optimizer = torch.optim.Adam(model.parameters(), lr=learning_rate)\n",
    "optimizer.zero_grad()\n",
    "\n",
    "# We'll track metrics for each epoch in these arrays\n",
    "epoch_nums = []\n",
    "training_loss = []\n",
    "validation_loss = []\n",
    "\n",
    "# Train over 50 epochs\n",
    "epochs = 50\n",
    "for epoch in range(1, epochs + 1):\n",
    "\n",
    "    # print the epoch number\n",
    "    print('Epoch: {}'.format(epoch))\n",
    "    \n",
    "    # Feed training data into the model to optimize the weights\n",
    "    train_loss = train(model, train_loader, optimizer)\n",
    "    \n",
    "    # Feed the test data into the model to check its performance\n",
    "    test_loss = test(model, test_loader)\n",
    "    \n",
    "    # Log the metrics for this epoch\n",
    "    epoch_nums.append(epoch)\n",
    "    training_loss.append(train_loss)\n",
    "    validation_loss.append(test_loss)\n"
   ]
  },
  {
   "cell_type": "markdown",
   "metadata": {},
   "source": [
    "While the training process is running, let's try to understand what's happening:\n",
    "\n",
    "1. In each *epoch*, the full set of training data is passed forward through the network. There are four features for each observation, and four corresponding nodes in the input layer - so the features for each observation are passed as a vector of four values to that layer. However, for efficiency, the feature vectors are grouped into batches; so actually a matrix of multiple feature vectors is fed in each time.\n",
    "2. The matrix of feature values is processed by a function that performs a weighted sum using initialized weights and bias values. The result of this function is then processed by the activation function for the input layer to constrain the values passed to the nodes in the next layer.\n",
    "3. The weighted sum and activation functions are repeated in each layer. Note that the functions operate on vectors and matrices rather than individual scalar values. In other words, the forward pass is essentially a series of nested linear algebra functions. This is the reason data scientists prefer to use computers with graphical processing units (GPUs), since these are optimized for matrix and vector calculations.\n",
    "4. In the final layer of the network, the output vectors contain a calculated value for each possible class (in this case, classes 0, 1, and 2). This vector is processed by a *loss function* that converts these values to probabilities and determines how far they are from the expected values based on the actual classes - so for example, suppose the output for a Gentoo penguin (class 1) observation is \\[0.3, 0.4, 0.3\\]. The correct prediction would be \\[0.0, 1.0, 0.0\\], so the variance between the predicted and actual values (how far away each predicted value is from what it should be) is \\[0.3, 0.6, 0.3\\]. This variance is aggregated for each batch and maintained as a running aggregate to calculate the overall level of error (*loss*) incurred by the training data for the epoch. \n",
    "5. At the end of each epoch, the validation data is passed through the network, and its loss and accuracy (proportion of correct predictions based on the highest probability value in the output vector) are also calculated. It's important to do this because it enables us to compare the performance of the model using data on which it was not trained, helping us determine if it will generalize well for new data or if it's *overfitted* to the training data.\n",
    "6. After all the data has been passed forward through the network, the output of the loss function for the *training* data (but <u>not</u> the *validation* data) is passed to the opimizer. The precise details of how the optimizer processes the loss vary depending on the specific optimization algorithm being used; but fundamentally you can think of the entire network, from the input layer to the loss function as being one big nested (*composite*) function. The optimizer applies some differential calculus to calculate *partial derivatives* for the function with respect to each weight and bias value that was used in the network. It's possible to do this efficiently for a nested function due to something called the *chain rule*, which enables you to determine the derivative of a composite function from the derivatives of its inner function and outer functions. You don't really need to worry about the details of the math here (the optimizer does it for you), but the end result is that the partial derivatives tell us about the slope (or *gradient*) of the loss function with respect to each weight and bias value - in other words, we can determine whether to increase or decrease the weight and bias values in order to decrease the loss.\n",
    "7. Having determined in which direction to adjust the weights and biases, the optimizer uses the *learning rate* to determine by how much to adjust them; and then works backwards through the network in a process called *backpropagation* to assign new values to the weights and biases in each layer.\n",
    "8. Now the next epoch repeats the whole training, validation, and backpropagation process starting with the revised weights and biases from the previous epoch - which hopefully will result in a lower level of loss.\n",
    "9. The process continues like this for 50 epochs.\n",
    "\n",
    "## Review training and validation loss\n",
    "\n",
    "After training is complete, we can examine the loss metrics we recorded while training and validating the model. We're really looking for two things:\n",
    "* The loss should reduce with each epoch, showing that the model is learning the right weights and biases to predict the correct labels.\n",
    "* The training loss and validation loss should follow a similar trend, showing that the model is not overfitting to the training data.\n",
    "\n",
    "Let's plot the loss metrics and see:"
   ]
  },
  {
   "cell_type": "code",
   "execution_count": 35,
   "metadata": {},
   "outputs": [
    {
     "data": {
      "image/png": "[encoded data removed]",
      "text/plain": [
       "<Figure size 640x480 with 1 Axes>"
      ]
     },
     "metadata": {},
     "output_type": "display_data"
    }
   ],
   "source": [
    "%matplotlib inline\n",
    "from matplotlib import pyplot as plt\n",
    "\n",
    "plt.plot(epoch_nums, training_loss)\n",
    "plt.plot(epoch_nums, validation_loss)\n",
    "plt.xlabel('epoch')\n",
    "plt.ylabel('loss')\n",
    "plt.title('Test and Training loss vs # of Epochs')\n",
    "plt.legend(['training', 'validation'], loc='upper right')\n",
    "plt.show()"
   ]
  },
  {
   "cell_type": "markdown",
   "metadata": {},
   "source": [
    "## View the learned weights and biases\n",
    "\n",
    "The trained model consists of the final weights and biases that were determined by the optimizer during training. Based on our network model we should expect the following values for each layer:\n",
    "* Layer 1: There are four input values going to ten output nodes, so there should be 10 x 4 weights and 10 bias values.\n",
    "* Layer 2: There are ten input values going to ten output nodes, so there should be 10 x 10 weights and 10 bias values.\n",
    "* Layer 3: There are ten input values going to three output nodes, so there should be 3 x 10 weights and 3 bias values."
   ]
  },
  {
   "cell_type": "code",
   "execution_count": 36,
   "metadata": {
    "tags": []
   },
   "outputs": [
    {
     "name": "stdout",
     "output_type": "stream",
     "text": [
      "fc1.weight \n",
      " [[-0.00374341  0.2682218  -0.41152257 -0.3679695 ]\n",
      " [-0.18633272 -0.06585227  0.10937032  0.50442547]\n",
      " [-0.04437202  0.13230628 -0.15110654 -0.09828269]\n",
      " [-0.47767425 -0.33114105 -0.20611155  0.01852179]\n",
      " [ 0.21873556  0.57969606 -0.3893427  -0.19130655]\n",
      " [ 0.3155298   0.25796676 -0.20507014  0.39292216]\n",
      " [-0.08059168  0.05290705  0.4527381  -0.46383518]\n",
      " [-0.3581701  -0.16194923 -0.23690276  0.38875064]\n",
      " [-0.32408983 -0.23016644 -0.34932023 -0.4682805 ]\n",
      " [-0.46916312  0.77308476  0.2887938   0.15303427]]\n",
      "fc1.bias \n",
      " [ 0.02629578 -0.20398839  0.08459234 -0.46684736 -0.33633846 -0.45793313\n",
      "  0.31546897  0.25341022 -0.22174752  0.22507258]\n",
      "fc2.weight \n",
      " [[ 0.20224684  0.31437248  0.12550516  0.04272011  0.21202639 -0.18619564\n",
      "   0.05892716 -0.24517313 -0.21917309 -0.16335806]\n",
      " [ 0.14308454  0.05704064 -0.18731831  0.09553465  0.6869488  -0.02299742\n",
      "   0.01207406  0.0322494   0.1961803   0.78293717]\n",
      " [-0.24369256 -0.10823222  0.12428064  0.2620103   0.41236275  0.33486602\n",
      "   0.06293392 -0.2376506   0.02909058 -0.709496  ]\n",
      " [-0.29470977  0.42832655  0.24044687 -0.31544605 -0.55824256 -0.03830132\n",
      "  -0.0520388  -0.09475051  0.12160734 -0.4557421 ]\n",
      " [ 0.11592636  0.15991893  0.22637847  0.11824109 -0.31298175 -0.20513597\n",
      "   0.15789728  0.0661869  -0.24668422 -0.1820901 ]\n",
      " [ 0.29749104  0.35402805 -0.13788326 -0.07958972 -0.9528763   0.0400686\n",
      "  -0.23813814 -0.20508382 -0.01742402 -0.23299587]\n",
      " [-0.12950484  0.18764247 -0.19243696  0.28693563  0.21671085 -0.26666948\n",
      "  -0.07870413  0.01426903  0.04613797  0.07500109]\n",
      " [ 0.12409671  0.0189421  -0.15429662  0.1496355  -0.30334112 -0.1874303\n",
      "  -0.07916125 -0.15403877 -0.11062703 -0.25918713]\n",
      " [-0.06726643  0.1841377  -0.20601156 -0.01622861 -0.05457629 -0.08583896\n",
      "   0.00878867  0.01218841  0.06399861  0.50494516]\n",
      " [ 0.29954556  0.20082231  0.30023092 -0.02287011 -0.2840742  -0.14991638\n",
      "   0.21532114 -0.00204994 -0.15717986 -0.24232906]]\n",
      "fc2.bias \n",
      " [-0.2959424  -0.05642825 -0.2627521   0.11477972  0.17096572 -0.334073\n",
      "  0.1972572  -0.24745122  0.03544039 -0.1282217 ]\n",
      "fc3.weight \n",
      " [[-0.0609103  -0.06208901 -0.28376696 -0.27304304 -0.04948315  0.00408951\n",
      "  -0.14365433  0.11912275 -0.28462344 -0.02134134]\n",
      " [ 0.27809685 -0.4534025   0.25807294  0.74921316 -0.2853832   0.71763206\n",
      "  -0.03649094 -0.14116624 -0.0937912  -0.25554213]\n",
      " [ 0.0339328  -0.22421323  0.72890854 -0.33929262  0.15194914 -0.45959854\n",
      "  -0.07604478 -0.06650443 -1.1246603   0.17134616]]\n",
      "fc3.bias \n",
      " [ 0.25107792  0.06769898 -0.26408112]\n"
     ]
    }
   ],
   "source": [
    "for param_tensor in model.state_dict():\n",
    "    print(param_tensor, \"\\n\", model.state_dict()[param_tensor].numpy())"
   ]
  },
  {
   "cell_type": "markdown",
   "metadata": {},
   "source": [
    "## Evaluate model performance\n",
    "\n",
    "So, is the model any good? The raw accuracy reported from the validation data would seem to indicate that it predicts pretty well; but it's typically useful to dig a little deeper and compare the predictions for each possible class. A common way to visualize the performance of a classification model is to create a *confusion matrix* that shows a crosstab of correct and incorrect predictions for each class."
   ]
  },
  {
   "cell_type": "code",
   "execution_count": 37,
   "metadata": {},
   "outputs": [
    {
     "data": {
      "image/png": "[encoded data removed]",
      "text/plain": [
       "<Figure size 640x480 with 2 Axes>"
      ]
     },
     "metadata": {},
     "output_type": "display_data"
    }
   ],
   "source": [
    "#Pytorch doesn't have a built-in confusion matrix metric, so we'll use SciKit-Learn\n",
    "from sklearn.metrics import confusion_matrix\n",
    "import numpy as np\n",
    "\n",
    "# Set the model to evaluate mode\n",
    "model.eval()\n",
    "\n",
    "# Get predictions for the test data\n",
    "x = torch.Tensor(x_test).float()\n",
    "_, predicted = torch.max(model(x).data, 1)\n",
    "\n",
    "# Plot the confusion matrix\n",
    "cm = confusion_matrix(y_test, predicted.numpy())\n",
    "plt.imshow(cm, interpolation=\"nearest\", cmap=plt.cm.Blues)\n",
    "plt.colorbar()\n",
    "tick_marks = np.arange(len(penguin_classes))\n",
    "plt.xticks(tick_marks, penguin_classes, rotation=45)\n",
    "plt.yticks(tick_marks, penguin_classes)\n",
    "plt.xlabel(\"Predicted Species\")\n",
    "plt.ylabel(\"Actual Species\")\n",
    "plt.show()"
   ]
  },
  {
   "cell_type": "markdown",
   "metadata": {},
   "source": [
    "The confusion matrix should show a strong diagonal line indicating that there are more correct than incorrect predictions for each class.\n",
    "\n",
    "## Save the trained model\n",
    "Now that we have a model we believe is reasonably accurate, we can save its trained weights for use later."
   ]
  },
  {
   "cell_type": "code",
   "execution_count": 40,
   "metadata": {},
   "outputs": [
    {
     "name": "stdout",
     "output_type": "stream",
     "text": [
      "model saved as models/penguin_classifier.pt\n"
     ]
    }
   ],
   "source": [
    "# Save the model weights\n",
    "model_file = 'models/penguin_classifier.pt'\n",
    "torch.save(model.state_dict(), model_file)\n",
    "del model\n",
    "print('model saved as', model_file)"
   ]
  },
  {
   "cell_type": "markdown",
   "metadata": {},
   "source": [
    "## Use the trained model\n",
    "\n",
    "When we have a new penguin observation, we can use the model to predict the species."
   ]
  },
  {
   "cell_type": "code",
   "execution_count": 41,
   "metadata": {
    "scrolled": true,
    "tags": []
   },
   "outputs": [
    {
     "name": "stdout",
     "output_type": "stream",
     "text": [
      "New sample: [[50.4, 15.3, 20, 50]]\n",
      "Prediction: Gentoo\n"
     ]
    }
   ],
   "source": [
    "# New penguin features\n",
    "x_new = [[50.4,15.3,20,50]]\n",
    "print ('New sample: {}'.format(x_new))\n",
    "\n",
    "# Create a new model class and load weights\n",
    "model = PenguinNet()\n",
    "model.load_state_dict(torch.load(model_file))\n",
    "\n",
    "# Set model to evaluation mode\n",
    "model.eval()\n",
    "\n",
    "# Get a prediction for the new data sample\n",
    "x = torch.Tensor(x_new).float()#transforming array into tensor input\n",
    "_, predicted = torch.max(model(x).data, 1)#finding the position of the maximum tensor value of the output (most probable class)\n",
    "\n",
    "print('Prediction:',penguin_classes[predicted.item()])#Preinction translated using the dictionary"
   ]
  },
  {
   "cell_type": "markdown",
   "metadata": {},
   "source": [
    "## Learn more\n",
    "\n",
    "This notebook was designed to help you understand the basic concepts and principles involved in deep neural networks, using a simple PyTorch example. To learn more about PyTorch, take a look at the [tutorials on the PyTorch web site](https://pytorch.org/tutorials/)."
   ]
  }
 ],
 "metadata": {
  "kernelspec": {
   "display_name": "Python 3.8 - AzureML",
   "language": "python",
   "name": "python38-azureml"
  },
  "language_info": {
   "codemirror_mode": {
    "name": "ipython",
    "version": 3
   },
   "file_extension": ".py",
   "mimetype": "text/x-python",
   "name": "python",
   "nbconvert_exporter": "python",
   "pygments_lexer": "ipython3",
   "version": "3.8.5"
  }
 },
 "nbformat": 4,
 "nbformat_minor": 2
}
